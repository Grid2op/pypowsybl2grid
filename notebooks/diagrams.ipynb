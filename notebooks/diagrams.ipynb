{
 "cells": [
  {
   "metadata": {},
   "cell_type": "markdown",
   "source": [
    "A simple notebook to show how to use the PyPowSyBl Grid2op backend and visualize the grid\n",
    "-----------------------------------------------------------------------------------------"
   ],
   "id": "1bee3591124c3091"
  },
  {
   "metadata": {},
   "cell_type": "raw",
   "source": "pip install git+https://github.com/Grid2Op/pypowsybl2grid.git@native_backend",
   "id": "dfb1005f1e421b9e"
  },
  {
   "metadata": {
    "ExecuteTime": {
     "end_time": "2024-12-11T13:28:21.108050Z",
     "start_time": "2024-12-11T13:28:20.111335Z"
    }
   },
   "cell_type": "code",
   "source": [
    "import pypowsybl2grid as pp2g\n",
    "import pypowsybl as pp"
   ],
   "id": "29bc14482d8e27d0",
   "outputs": [
    {
     "name": "stderr",
     "output_type": "stream",
     "text": [
      "/home/jamgotchiangeo/.cache/pypoetry/virtualenvs/pypowsybl2grid-KBpaL7Y4-py3.10/lib/python3.10/site-packages/grid2op/Backend/pandaPowerBackend.py:36: UserWarning: Numba cannot be loaded. You will gain possibly massive speed if installing it by \n",
      "\t/home/jamgotchiangeo/.cache/pypoetry/virtualenvs/pypowsybl2grid-KBpaL7Y4-py3.10/bin/python -m pip install numba\n",
      "\n",
      "  warnings.warn(\n"
     ]
    }
   ],
   "execution_count": 1
  },
  {
   "metadata": {},
   "cell_type": "markdown",
   "source": "Create a PyPowSyBl backend with default parameters",
   "id": "e4912db767328e5a"
  },
  {
   "metadata": {
    "ExecuteTime": {
     "end_time": "2024-12-11T13:28:21.199551Z",
     "start_time": "2024-12-11T13:28:21.190357Z"
    }
   },
   "cell_type": "code",
   "source": "backend = pp2g.PyPowSyBlBackend()",
   "id": "3d24808a601abcc",
   "outputs": [],
   "execution_count": 2
  },
  {
   "metadata": {},
   "cell_type": "markdown",
   "source": "Load a network into the backend and run a first power flow",
   "id": "58ad4f53fc25455d"
  },
  {
   "metadata": {
    "ExecuteTime": {
     "end_time": "2024-12-11T13:28:21.260544Z",
     "start_time": "2024-12-11T13:28:21.247829Z"
    }
   },
   "cell_type": "code",
   "source": [
    "network = pp.network.create_eurostag_tutorial_example1_network()\n",
    "backend.load_grid_from_iidm(network)\n",
    "backend.assert_grid_correct() # needed to initialize the backend\n",
    "backend.runpf(False)"
   ],
   "id": "beb1835934b07188",
   "outputs": [
    {
     "data": {
      "text/plain": [
       "(True, None)"
      ]
     },
     "execution_count": 3,
     "metadata": {},
     "output_type": "execute_result"
    }
   ],
   "execution_count": 3
  },
  {
   "metadata": {},
   "cell_type": "markdown",
   "source": "Show single line diagram of 'VLHV1' voltage level",
   "id": "bd053ebcca85df6f"
  },
  {
   "metadata": {
    "ExecuteTime": {
     "end_time": "2024-12-11T13:28:21.386252Z",
     "start_time": "2024-12-11T13:28:21.355330Z"
    }
   },
   "cell_type": "code",
   "source": "backend.network.get_single_line_diagram('VLHV1')",
   "id": "12826861d1b92b45",
   "outputs": [
    {
     "data": {
      "text/plain": [
       "<pypowsybl.network.impl.svg.Svg at 0x702dd438dde0>"
      ],
      "image/svg+xml": "<?xml version=\"1.0\" encoding=\"UTF-8\" standalone=\"no\"?>\n<svg height=\"529.0\" viewBox=\"0 0 230.0 529.0\" width=\"230.0\" xmlns=\"http://www.w3.org/2000/svg\">\n    <style><![CDATA[\n/* ----------------------------------------------------------------------- */\n/* File: tautologies.css ------------------------------------------------- */\n.sld-out .sld-arrow-in {visibility: hidden}\n.sld-in .sld-arrow-out {visibility: hidden}\n.sld-closed .sld-sw-open {visibility: hidden}\n.sld-open .sld-sw-closed {visibility: hidden}\n.sld-hidden-node {visibility: hidden}\n.sld-top-feeder .sld-label {dominant-baseline: auto}\n.sld-bottom-feeder .sld-label {dominant-baseline: hanging}\n.sld-active-power .sld-label {dominant-baseline: mathematical}\n.sld-reactive-power .sld-label {dominant-baseline: mathematical}\n.sld-current .sld-label {dominant-baseline: mathematical}\n/* ----------------------------------------------------------------------- */\n/* File: topologicalBaseVoltages.css ------------------------------------- */\n.sld-disconnected {--sld-vl-color: #808080}\n.sld-vl300to500-0 {--sld-vl-color: #FF0000}\n.sld-vl300to500-1 {--sld-vl-color: #7F6C00}\n.sld-vl300to500-2 {--sld-vl-color: #F6B2FF}\n.sld-vl300to500-3 {--sld-vl-color: #996700}\n.sld-vl300to500-4 {--sld-vl-color: #FF85EB}\n.sld-vl300to500-5 {--sld-vl-color: #B25B00}\n.sld-vl300to500-6 {--sld-vl-color: #FF59B5}\n.sld-vl300to500-7 {--sld-vl-color: #CC4400}\n.sld-vl300to500-8 {--sld-vl-color: #FF2C67}\n.sld-vl300to500-9 {--sld-vl-color: #E52600}\n.sld-vl180to300-0 {--sld-vl-color: #218B21}\n.sld-vl180to300-1 {--sld-vl-color: #0D4940}\n.sld-vl180to300-2 {--sld-vl-color: #DFDAB9}\n.sld-vl180to300-3 {--sld-vl-color: #105640}\n.sld-vl180to300-4 {--sld-vl-color: #C2CB92}\n.sld-vl180to300-5 {--sld-vl-color: #14643C}\n.sld-vl180to300-6 {--sld-vl-color: #95B66B}\n.sld-vl180to300-7 {--sld-vl-color: #187036}\n.sld-vl180to300-8 {--sld-vl-color: #5FA046}\n.sld-vl180to300-9 {--sld-vl-color: #1C7E2D}\n.sld-vl120to180-0 {--sld-vl-color: #00AFAE}\n.sld-vl120to180-1 {--sld-vl-color: #000D58}\n.sld-vl120to180-2 {--sld-vl-color: #B8E7B2}\n.sld-vl120to180-3 {--sld-vl-color: #002169}\n.sld-vl120to180-4 {--sld-vl-color: #85D993}\n.sld-vl120to180-5 {--sld-vl-color: #003C7B}\n.sld-vl120to180-6 {--sld-vl-color: #59CB8B}\n.sld-vl120to180-7 {--sld-vl-color: #005C8C}\n.sld-vl120to180-8 {--sld-vl-color: #2CBD94}\n.sld-vl120to180-9 {--sld-vl-color: #00839E}\n.sld-vl70to120-0 {--sld-vl-color: #CC5500}\n.sld-vl70to120-1 {--sld-vl-color: #4A6600}\n.sld-vl70to120-2 {--sld-vl-color: #EFB2DD}\n.sld-vl70to120-3 {--sld-vl-color: #6E7A00}\n.sld-vl70to120-4 {--sld-vl-color: #E685AE}\n.sld-vl70to120-5 {--sld-vl-color: #8E8400}\n.sld-vl70to120-6 {--sld-vl-color: #DD596B}\n.sld-vl70to120-7 {--sld-vl-color: #A37B00}\n.sld-vl70to120-8 {--sld-vl-color: #D4432C}\n.sld-vl70to120-9 {--sld-vl-color: #B76B00}\n.sld-vl50to70-0 {--sld-vl-color: #A020EF}\n.sld-vl50to70-1 {--sld-vl-color: #7F0848}\n.sld-vl50to70-2 {--sld-vl-color: #B7DBFE}\n.sld-vl50to70-3 {--sld-vl-color: #960C6D}\n.sld-vl50to70-4 {--sld-vl-color: #8DA6FE}\n.sld-vl50to70-5 {--sld-vl-color: #AD109A}\n.sld-vl50to70-6 {--sld-vl-color: #6F66FB}\n.sld-vl50to70-7 {--sld-vl-color: #BC14C4}\n.sld-vl50to70-8 {--sld-vl-color: #7F42F6}\n.sld-vl50to70-9 {--sld-vl-color: #B11AD9}\n.sld-vl30to50-0 {--sld-vl-color: #FF8290}\n.sld-vl30to50-1 {--sld-vl-color: #7F6F41}\n.sld-vl30to50-2 {--sld-vl-color: #F6D9FF}\n.sld-vl30to50-3 {--sld-vl-color: #99784E}\n.sld-vl30to50-4 {--sld-vl-color: #FFC3FB}\n.sld-vl30to50-5 {--sld-vl-color: #B27D5B}\n.sld-vl30to50-6 {--sld-vl-color: #FFADE3}\n.sld-vl30to50-7 {--sld-vl-color: #CC7E68}\n.sld-vl30to50-8 {--sld-vl-color: #FF97BF}\n.sld-vl30to50-9 {--sld-vl-color: #E57B75}\n.sld-vl0to30-0 {--sld-vl-color: #AAAE27}\n.sld-vl0to30-1 {--sld-vl-color: #195B0F}\n.sld-vl0to30-2 {--sld-vl-color: #EABABE}\n.sld-vl0to30-3 {--sld-vl-color: #2D6C13}\n.sld-vl0to30-4 {--sld-vl-color: #DDA193}\n.sld-vl0to30-5 {--sld-vl-color: #477D17}\n.sld-vl0to30-6 {--sld-vl-color: #CE9A6E}\n.sld-vl0to30-7 {--sld-vl-color: #648D1C}\n.sld-vl0to30-8 {--sld-vl-color: #BEA04A}\n.sld-vl0to30-9 {--sld-vl-color: #869D22}\n/* ----------------------------------------------------------------------- */\n/* File : highlightLineStates.css ---------------------------------------- */\n.sld-wire.sld-feeder-disconnected {stroke: black}\n.sld-wire.sld-feeder-connected-disconnected {stroke-dasharray: 3,3}\n.sld-wire.sld-feeder-disconnected-connected {stroke: black; stroke-dasharray: 3,3}\n.sld-busbar-section.sld-bus-disconnected {stroke-dasharray: 3,3}/* ----------------------------------------------------------------------- */\n/* File : components.css ------------------------------------------------- */\n/* Stroke black */\n.sld-disconnector {stroke-width: 3; stroke: black; fill: none}\n/* Stroke blue */\n.sld-breaker {stroke-width: 2; stroke: blue; fill:white}\n.sld-load-break-switch {stroke: blue; fill: white}\n/* Stroke --sld-vl-color with fallback black */\n.sld-bus-connection {fill: var(--sld-vl-color, black)}\n.sld-cell-shape-flat .sld-bus-connection {visibility: hidden}\n.sld-busbar-section {stroke: var(--sld-vl-color, black); stroke-width: 3; fill: none}\n/* Stroke --sld-vl-color with fallback red */\n.sld-wire {stroke: var(--sld-vl-color, #c80000); fill: none}\n.sld-wire.sld-dangling-line {stroke-width: 2px}\n.sld-wire.sld-tie-line {stroke-width: 2px}\n/* Stroke --sld-vl-color with fallback blue */\n.sld-load {stroke: var(--sld-vl-color, blue); fill: none}\n.sld-battery {stroke: var(--sld-vl-color, blue); fill: none}\n.sld-generator {stroke: var(--sld-vl-color, blue); fill: none}\n.sld-two-wt {stroke: var(--sld-vl-color, blue); fill: none}\n.sld-three-wt {stroke: var(--sld-vl-color, blue); fill: none}\n.sld-winding {stroke: var(--sld-vl-color, blue); fill: none}\n.sld-capacitor {stroke: var(--sld-vl-color, blue); fill: none}\n.sld-inductor {stroke: var(--sld-vl-color, blue); fill: none}\n.sld-pst {stroke: var(--sld-vl-color, blue); fill: none}\n.sld-pst-arrow {stroke: black; fill: none}\n.sld-svc {stroke: var(--sld-vl-color, blue); fill: none}\n.sld-vsc {stroke: var(--sld-vl-color, blue); font-size: 7.43px; fill: none}\n.sld-lcc {stroke: var(--sld-vl-color, blue); font-size: 7.43px; fill: none}\n.sld-ground {stroke: var(--sld-vl-color, blue); fill: none}\n/* Stroke none & fill: --sld-vl-color */\n.sld-node-infos {stroke: none; fill: var(--sld-vl-color, black)}\n/* Stroke none & fill: black */\n.sld-node {stroke: none; fill: black}\n.sld-flash {stroke: none; fill: black}\n.sld-lock {stroke: none; fill: black}\n.sld-unknown {stroke: none; fill: black}\n/* Fonts */\n.sld-label {stroke: none; fill: black; font: 8px serif}\n.sld-bus-legend-info {font: 10px serif}\n.sld-graph-label {font: 12px serif}\n/* Specific */\n.sld-grid {stroke: #003700; stroke-dasharray: 1,10}\n.sld-feeder-info.sld-active-power {fill:black}\n.sld-feeder-info.sld-reactive-power {fill:blue}\n.sld-feeder-info.sld-current {fill:purple}\n.sld-frame {fill: var(--sld-background-color, transparent)}\n/* Stroke maroon for fictitious switch */\n.sld-breaker.sld-fictitious {stroke: maroon}\n.sld-disconnector.sld-fictitious {stroke: maroon}\n.sld-load-break-switch.sld-fictitious {stroke: maroon}\n.sld-busbar-section.sld-fictitious {stroke: var(--sld-vl-color, #c80000); stroke-width: 1}\n/* ground disconnector specific */\n.sld-ground-disconnection-attach {stroke: var(--sld-vl-color, #c80000); fill: none}\n.sld-open .sld-ground-disconnection-ground {stroke: black; fill: none}\n.sld-closed .sld-ground-disconnection-ground {stroke: var(--sld-vl-color, #c80000); fill: none}\n.sld-ground-disconnection .sld-sw-open {stroke: black; fill: none}\n.sld-ground-disconnection .sld-sw-closed {stroke: black; fill: none}\n\n]]></style>\n    <rect class=\"sld-frame\" height=\"100%\" width=\"100%\"/>\n    <g>\n        <g class=\"sld-busbar-section sld-vl300to500-0\" id=\"idNHV1\" transform=\"translate(52.5,252.0)\">\n            <line x1=\"0\" x2=\"125.0\" y1=\"0\" y2=\"0\"/>\n            <text class=\"sld-label\" id=\"NHV1_NW_LABEL\" x=\"-5.0\" y=\"-5.0\">NHV1</text>\n        </g>\n        <g class=\"sld-busbar-section sld-disconnected sld-bus-disconnected\" id=\"idVLHV1_95_extra_95_busbar_95_1\" transform=\"translate(52.5,277.0)\">\n            <line x1=\"0\" x2=\"125.0\" y1=\"0\" y2=\"0\"/>\n            <text class=\"sld-label\" id=\"VLHV1_extra_busbar_1_NW_LABEL\" x=\"-5.0\" y=\"-5.0\">VLHV1_extra_busbar_1</text>\n        </g>\n        <g class=\"sld-extern-cell sld-cell-direction-top\" id=\"idEXTERN_32_0\">\n            <g class=\"sld-wire sld-vl300to500-0\" id=\"_95_VLHV1_95_BUSCO_95_NHV1_95_NHV1_95_NHV2_95_1_95_ONE_95_INTERNAL_95_VLHV1_95_BUSCO_95_NHV1_95_NHV1_95_NHV2_95_1_95_ONE_45_NHV1_95_NHV2_95_1_95_ONE\">\n                <polyline points=\"65.0,252.0,65.0,222.0\"/>\n            </g>\n            <g class=\"sld-wire sld-vl300to500-0\" id=\"_95_VLHV1_95_INTERNAL_95_VLHV1_95_BUSCO_95_NHV1_95_NHV1_95_NHV2_95_1_95_ONE_45_NHV1_95_NHV2_95_1_95_ONE_95_INTERNAL_95_VLHV1_95_NHV1_95_NHV2_95_1_95_ONE\">\n                <polyline points=\"65.0,222.0,65.0,142.0\"/>\n            </g>\n            <g class=\"sld-wire sld-vl300to500-0\" id=\"_95_VLHV1_95_INTERNAL_95_VLHV1_95_NHV1_95_NHV2_95_1_95_ONE_95_NHV1_95_NHV2_95_1_95_ONE\">\n                <polyline points=\"65.0,142.0,65.0,80.0\"/>\n            </g>\n            <g class=\"sld-active-power sld-feeder-info sld-out\" id=\"idNHV1_95_NHV2_95_1_95_ONE_ARROW_ACTIVE\" transform=\"translate(60.0,95.0)\">\n                <polygon class=\"sld-arrow-out\" points=\"5,0 10,10 0,10\"/>\n                <polygon class=\"sld-arrow-in\" points=\"0,0 10,0 5,10\"/>\n                <text class=\"sld-label\" x=\"15.0\" y=\"5.0\">302</text>\n            </g>\n            <g class=\"sld-reactive-power sld-feeder-info sld-out\" id=\"idNHV1_95_NHV2_95_1_95_ONE_ARROW_REACTIVE\" transform=\"translate(60.0,115.0)\">\n                <polygon class=\"sld-arrow-out\" points=\"5,0 10,10 0,10\"/>\n                <polygon class=\"sld-arrow-in\" points=\"0,0 10,0 5,10\"/>\n                <text class=\"sld-label\" x=\"15.0\" y=\"5.0\">99</text>\n            </g>\n            <g class=\"sld-bus-connection sld-fictitious sld-vl300to500-0\" id=\"idBUSCO_95_NHV1_95_NHV1_95_NHV2_95_1_95_ONE\" transform=\"translate(61.0,248.0)\">\n                <circle cx=\"4\" cy=\"4\" r=\"4\"/>\n            </g>\n            <g class=\"sld-node sld-hidden-node sld-fictitious sld-vl300to500-0\" id=\"idINTERNAL_95_VLHV1_95_BUSCO_95_NHV1_95_NHV1_95_NHV2_95_1_95_ONE_45_NHV1_95_NHV2_95_1_95_ONE\" transform=\"translate(61.0,218.0)\">\n                <circle cx=\"4\" cy=\"4\" r=\"4\"/>\n            </g>\n            <g class=\"sld-node sld-hidden-node sld-fictitious sld-vl300to500-0\" id=\"idINTERNAL_95_VLHV1_95_NHV1_95_NHV2_95_1_95_ONE\" transform=\"translate(61.0,138.0)\">\n                <circle cx=\"4\" cy=\"4\" r=\"4\"/>\n            </g>\n            <g class=\"sld-top-feeder\" id=\"idNHV1_95_NHV2_95_1_95_ONE\" transform=\"translate(65.0,80.0)\">\n                <text class=\"sld-label\" id=\"NHV1_NHV2_1_ONE_N_LABEL\" x=\"-5.0\" y=\"-5.0\">NHV1_NHV2_1</text>\n            </g>\n        </g>\n        <g class=\"sld-extern-cell sld-cell-direction-bottom\" id=\"idEXTERN_32_1\">\n            <g class=\"sld-wire sld-vl300to500-0\" id=\"_95_VLHV1_95_BUSCO_95_NHV1_95_NHV1_95_NHV2_95_2_95_ONE_95_INTERNAL_95_VLHV1_95_BUSCO_95_NHV1_95_NHV1_95_NHV2_95_2_95_ONE_45_NHV1_95_NHV2_95_2_95_ONE\">\n                <polyline points=\"115.0,252.0,115.0,307.0\"/>\n            </g>\n            <g class=\"sld-wire sld-vl300to500-0\" id=\"_95_VLHV1_95_INTERNAL_95_VLHV1_95_BUSCO_95_NHV1_95_NHV1_95_NHV2_95_2_95_ONE_45_NHV1_95_NHV2_95_2_95_ONE_95_INTERNAL_95_VLHV1_95_NHV1_95_NHV2_95_2_95_ONE\">\n                <polyline points=\"115.0,307.0,115.0,387.0\"/>\n            </g>\n            <g class=\"sld-wire sld-vl300to500-0\" id=\"_95_VLHV1_95_INTERNAL_95_VLHV1_95_NHV1_95_NHV2_95_2_95_ONE_95_NHV1_95_NHV2_95_2_95_ONE\">\n                <polyline points=\"115.0,387.0,115.0,449.0\"/>\n            </g>\n            <g class=\"sld-reactive-power sld-feeder-info sld-out\" id=\"idNHV1_95_NHV2_95_2_95_ONE_ARROW_REACTIVE\" transform=\"translate(110.0,424.0)\">\n                <polygon class=\"sld-arrow-out\" points=\"5,0 10,10 0,10\" transform=\"rotate(180.0,5.0,5.0)\"/>\n                <polygon class=\"sld-arrow-in\" points=\"0,0 10,0 5,10\" transform=\"rotate(180.0,5.0,5.0)\"/>\n                <text class=\"sld-label\" x=\"15.0\" y=\"5.0\">99</text>\n            </g>\n            <g class=\"sld-active-power sld-feeder-info sld-out\" id=\"idNHV1_95_NHV2_95_2_95_ONE_ARROW_ACTIVE\" transform=\"translate(110.0,404.0)\">\n                <polygon class=\"sld-arrow-out\" points=\"5,0 10,10 0,10\" transform=\"rotate(180.0,5.0,5.0)\"/>\n                <polygon class=\"sld-arrow-in\" points=\"0,0 10,0 5,10\" transform=\"rotate(180.0,5.0,5.0)\"/>\n                <text class=\"sld-label\" x=\"15.0\" y=\"5.0\">302</text>\n            </g>\n            <g class=\"sld-bus-connection sld-fictitious sld-vl300to500-0\" id=\"idBUSCO_95_NHV1_95_NHV1_95_NHV2_95_2_95_ONE\" transform=\"translate(111.0,248.0)\">\n                <circle cx=\"4\" cy=\"4\" r=\"4\"/>\n            </g>\n            <g class=\"sld-node sld-hidden-node sld-fictitious sld-vl300to500-0\" id=\"idINTERNAL_95_VLHV1_95_BUSCO_95_NHV1_95_NHV1_95_NHV2_95_2_95_ONE_45_NHV1_95_NHV2_95_2_95_ONE\" transform=\"translate(111.0,303.0)\">\n                <circle cx=\"4\" cy=\"4\" r=\"4\"/>\n            </g>\n            <g class=\"sld-node sld-hidden-node sld-fictitious sld-vl300to500-0\" id=\"idINTERNAL_95_VLHV1_95_NHV1_95_NHV2_95_2_95_ONE\" transform=\"translate(111.0,383.0)\">\n                <circle cx=\"4\" cy=\"4\" r=\"4\"/>\n            </g>\n            <g class=\"sld-bottom-feeder\" id=\"idNHV1_95_NHV2_95_2_95_ONE\" transform=\"translate(115.0,449.0)\">\n                <text class=\"sld-label\" id=\"NHV1_NHV2_2_ONE_S_LABEL\" x=\"-5.0\" y=\"5.0\">NHV1_NHV2_2</text>\n            </g>\n        </g>\n        <g class=\"sld-extern-cell sld-cell-direction-top\" id=\"idEXTERN_32_2\">\n            <g class=\"sld-wire sld-vl300to500-0\" id=\"_95_VLHV1_95_BUSCO_95_NHV1_95_NGEN_95_NHV1_95_TWO_95_INTERNAL_95_VLHV1_95_BUSCO_95_NHV1_95_NGEN_95_NHV1_95_TWO_45_NGEN_95_NHV1_95_TWO\">\n                <polyline points=\"165.0,252.0,165.0,222.0\"/>\n            </g>\n            <g class=\"sld-wire sld-vl300to500-0\" id=\"_95_VLHV1_95_INTERNAL_95_VLHV1_95_BUSCO_95_NHV1_95_NGEN_95_NHV1_95_TWO_45_NGEN_95_NHV1_95_TWO_95_INTERNAL_95_VLHV1_95_NGEN_95_NHV1_95_TWO\">\n                <polyline points=\"165.0,222.0,165.0,142.0\"/>\n            </g>\n            <g class=\"sld-wire sld-vl300to500-0\" id=\"_95_VLHV1_95_INTERNAL_95_VLHV1_95_NGEN_95_NHV1_95_TWO_95_NGEN_95_NHV1_95_TWO\">\n                <polyline points=\"165.0,142.0,165.0,88.0\"/>\n            </g>\n            <g class=\"sld-active-power sld-feeder-info sld-in\" id=\"idNGEN_95_NHV1_95_TWO_ARROW_ACTIVE\" transform=\"translate(160.0,103.0)\">\n                <polygon class=\"sld-arrow-out\" points=\"5,0 10,10 0,10\"/>\n                <polygon class=\"sld-arrow-in\" points=\"0,0 10,0 5,10\"/>\n                <text class=\"sld-label\" x=\"15.0\" y=\"5.0\">-605</text>\n            </g>\n            <g class=\"sld-reactive-power sld-feeder-info sld-in\" id=\"idNGEN_95_NHV1_95_TWO_ARROW_REACTIVE\" transform=\"translate(160.0,123.0)\">\n                <polygon class=\"sld-arrow-out\" points=\"5,0 10,10 0,10\"/>\n                <polygon class=\"sld-arrow-in\" points=\"0,0 10,0 5,10\"/>\n                <text class=\"sld-label\" x=\"15.0\" y=\"5.0\">-197</text>\n            </g>\n            <g class=\"sld-bus-connection sld-fictitious sld-vl300to500-0\" id=\"idBUSCO_95_NHV1_95_NGEN_95_NHV1_95_TWO\" transform=\"translate(161.0,248.0)\">\n                <circle cx=\"4\" cy=\"4\" r=\"4\"/>\n            </g>\n            <g class=\"sld-node sld-hidden-node sld-fictitious sld-vl300to500-0\" id=\"idINTERNAL_95_VLHV1_95_BUSCO_95_NHV1_95_NGEN_95_NHV1_95_TWO_45_NGEN_95_NHV1_95_TWO\" transform=\"translate(161.0,218.0)\">\n                <circle cx=\"4\" cy=\"4\" r=\"4\"/>\n            </g>\n            <g class=\"sld-node sld-hidden-node sld-fictitious sld-vl300to500-0\" id=\"idINTERNAL_95_VLHV1_95_NGEN_95_NHV1_95_TWO\" transform=\"translate(161.0,138.0)\">\n                <circle cx=\"4\" cy=\"4\" r=\"4\"/>\n            </g>\n            <g class=\"sld-two-wt sld-top-feeder\" id=\"idNGEN_95_NHV1_95_TWO\" transform=\"translate(160.0,72.5)\">\n                <circle class=\"sld-vl300to500-0 sld-winding\" cx=\"5\" cy=\"10\" r=\"5\"/>\n                <circle class=\"sld-vl0to30-0 sld-winding\" cx=\"5\" cy=\"5\" r=\"5\"/>\n                <text class=\"sld-label\" id=\"NGEN_NHV1_TWO_N_LABEL\" x=\"-5.0\" y=\"-5.0\">NGEN_NHV1</text>\n            </g>\n        </g>\n    </g>\n</svg>\n"
     },
     "execution_count": 4,
     "metadata": {},
     "output_type": "execute_result"
    }
   ],
   "execution_count": 4
  },
  {
   "metadata": {},
   "cell_type": "markdown",
   "source": "Move line 'NHV1_NHV2_1' origin to the second bus by applying the corresponding action to the backend",
   "id": "d2067938afd1e435"
  },
  {
   "metadata": {
    "ExecuteTime": {
     "end_time": "2024-12-11T13:28:21.449349Z",
     "start_time": "2024-12-11T13:28:21.438329Z"
    }
   },
   "cell_type": "code",
   "source": [
    "from typing import Dict\n",
    "def apply_action(backend: pp2g.PyPowSyBlBackend, action_dict: Dict):\n",
    "    action = type(backend)._complete_action_class()\n",
    "    action.update(action_dict)\n",
    "    bk_act = type(backend).my_bk_act_class()\n",
    "    bk_act += action\n",
    "    backend.apply_action(bk_act)\n",
    "\n",
    "apply_action(backend, {'set_bus': {'lines_or_id': {'NHV1_NHV2_1': 2}}})"
   ],
   "id": "6bc7ba41e69d790d",
   "outputs": [],
   "execution_count": 5
  },
  {
   "metadata": {},
   "cell_type": "markdown",
   "source": "Run again the power flow",
   "id": "ae408009eb4b1e61"
  },
  {
   "metadata": {
    "ExecuteTime": {
     "end_time": "2024-12-11T13:28:21.512085Z",
     "start_time": "2024-12-11T13:28:21.502131Z"
    }
   },
   "cell_type": "code",
   "source": "backend.runpf(False)",
   "id": "609b8b8d335a3623",
   "outputs": [
    {
     "data": {
      "text/plain": [
       "(True, None)"
      ]
     },
     "execution_count": 6,
     "metadata": {},
     "output_type": "execute_result"
    }
   ],
   "execution_count": 6
  },
  {
   "metadata": {},
   "cell_type": "markdown",
   "source": "Then we can see by drawing again the diagram, that the line 'NHV1_NHV2_1' orgin has been moved to second bus ",
   "id": "de4fceb545d44f34"
  },
  {
   "metadata": {
    "ExecuteTime": {
     "end_time": "2024-12-11T13:28:21.581203Z",
     "start_time": "2024-12-11T13:28:21.560293Z"
    }
   },
   "cell_type": "code",
   "source": "backend.network.get_single_line_diagram('VLHV1')",
   "id": "f06c09791947b75",
   "outputs": [
    {
     "data": {
      "text/plain": [
       "<pypowsybl.network.impl.svg.Svg at 0x702dd438c370>"
      ],
      "image/svg+xml": "<?xml version=\"1.0\" encoding=\"UTF-8\" standalone=\"no\"?>\n<svg height=\"529.0\" viewBox=\"0 0 230.0 529.0\" width=\"230.0\" xmlns=\"http://www.w3.org/2000/svg\">\n    <style><![CDATA[\n/* ----------------------------------------------------------------------- */\n/* File: tautologies.css ------------------------------------------------- */\n.sld-out .sld-arrow-in {visibility: hidden}\n.sld-in .sld-arrow-out {visibility: hidden}\n.sld-closed .sld-sw-open {visibility: hidden}\n.sld-open .sld-sw-closed {visibility: hidden}\n.sld-hidden-node {visibility: hidden}\n.sld-top-feeder .sld-label {dominant-baseline: auto}\n.sld-bottom-feeder .sld-label {dominant-baseline: hanging}\n.sld-active-power .sld-label {dominant-baseline: mathematical}\n.sld-reactive-power .sld-label {dominant-baseline: mathematical}\n.sld-current .sld-label {dominant-baseline: mathematical}\n/* ----------------------------------------------------------------------- */\n/* File: topologicalBaseVoltages.css ------------------------------------- */\n.sld-disconnected {--sld-vl-color: #808080}\n.sld-vl300to500-0 {--sld-vl-color: #FF0000}\n.sld-vl300to500-1 {--sld-vl-color: #7F6C00}\n.sld-vl300to500-2 {--sld-vl-color: #F6B2FF}\n.sld-vl300to500-3 {--sld-vl-color: #996700}\n.sld-vl300to500-4 {--sld-vl-color: #FF85EB}\n.sld-vl300to500-5 {--sld-vl-color: #B25B00}\n.sld-vl300to500-6 {--sld-vl-color: #FF59B5}\n.sld-vl300to500-7 {--sld-vl-color: #CC4400}\n.sld-vl300to500-8 {--sld-vl-color: #FF2C67}\n.sld-vl300to500-9 {--sld-vl-color: #E52600}\n.sld-vl180to300-0 {--sld-vl-color: #218B21}\n.sld-vl180to300-1 {--sld-vl-color: #0D4940}\n.sld-vl180to300-2 {--sld-vl-color: #DFDAB9}\n.sld-vl180to300-3 {--sld-vl-color: #105640}\n.sld-vl180to300-4 {--sld-vl-color: #C2CB92}\n.sld-vl180to300-5 {--sld-vl-color: #14643C}\n.sld-vl180to300-6 {--sld-vl-color: #95B66B}\n.sld-vl180to300-7 {--sld-vl-color: #187036}\n.sld-vl180to300-8 {--sld-vl-color: #5FA046}\n.sld-vl180to300-9 {--sld-vl-color: #1C7E2D}\n.sld-vl120to180-0 {--sld-vl-color: #00AFAE}\n.sld-vl120to180-1 {--sld-vl-color: #000D58}\n.sld-vl120to180-2 {--sld-vl-color: #B8E7B2}\n.sld-vl120to180-3 {--sld-vl-color: #002169}\n.sld-vl120to180-4 {--sld-vl-color: #85D993}\n.sld-vl120to180-5 {--sld-vl-color: #003C7B}\n.sld-vl120to180-6 {--sld-vl-color: #59CB8B}\n.sld-vl120to180-7 {--sld-vl-color: #005C8C}\n.sld-vl120to180-8 {--sld-vl-color: #2CBD94}\n.sld-vl120to180-9 {--sld-vl-color: #00839E}\n.sld-vl70to120-0 {--sld-vl-color: #CC5500}\n.sld-vl70to120-1 {--sld-vl-color: #4A6600}\n.sld-vl70to120-2 {--sld-vl-color: #EFB2DD}\n.sld-vl70to120-3 {--sld-vl-color: #6E7A00}\n.sld-vl70to120-4 {--sld-vl-color: #E685AE}\n.sld-vl70to120-5 {--sld-vl-color: #8E8400}\n.sld-vl70to120-6 {--sld-vl-color: #DD596B}\n.sld-vl70to120-7 {--sld-vl-color: #A37B00}\n.sld-vl70to120-8 {--sld-vl-color: #D4432C}\n.sld-vl70to120-9 {--sld-vl-color: #B76B00}\n.sld-vl50to70-0 {--sld-vl-color: #A020EF}\n.sld-vl50to70-1 {--sld-vl-color: #7F0848}\n.sld-vl50to70-2 {--sld-vl-color: #B7DBFE}\n.sld-vl50to70-3 {--sld-vl-color: #960C6D}\n.sld-vl50to70-4 {--sld-vl-color: #8DA6FE}\n.sld-vl50to70-5 {--sld-vl-color: #AD109A}\n.sld-vl50to70-6 {--sld-vl-color: #6F66FB}\n.sld-vl50to70-7 {--sld-vl-color: #BC14C4}\n.sld-vl50to70-8 {--sld-vl-color: #7F42F6}\n.sld-vl50to70-9 {--sld-vl-color: #B11AD9}\n.sld-vl30to50-0 {--sld-vl-color: #FF8290}\n.sld-vl30to50-1 {--sld-vl-color: #7F6F41}\n.sld-vl30to50-2 {--sld-vl-color: #F6D9FF}\n.sld-vl30to50-3 {--sld-vl-color: #99784E}\n.sld-vl30to50-4 {--sld-vl-color: #FFC3FB}\n.sld-vl30to50-5 {--sld-vl-color: #B27D5B}\n.sld-vl30to50-6 {--sld-vl-color: #FFADE3}\n.sld-vl30to50-7 {--sld-vl-color: #CC7E68}\n.sld-vl30to50-8 {--sld-vl-color: #FF97BF}\n.sld-vl30to50-9 {--sld-vl-color: #E57B75}\n.sld-vl0to30-0 {--sld-vl-color: #AAAE27}\n.sld-vl0to30-1 {--sld-vl-color: #195B0F}\n.sld-vl0to30-2 {--sld-vl-color: #EABABE}\n.sld-vl0to30-3 {--sld-vl-color: #2D6C13}\n.sld-vl0to30-4 {--sld-vl-color: #DDA193}\n.sld-vl0to30-5 {--sld-vl-color: #477D17}\n.sld-vl0to30-6 {--sld-vl-color: #CE9A6E}\n.sld-vl0to30-7 {--sld-vl-color: #648D1C}\n.sld-vl0to30-8 {--sld-vl-color: #BEA04A}\n.sld-vl0to30-9 {--sld-vl-color: #869D22}\n/* ----------------------------------------------------------------------- */\n/* File : highlightLineStates.css ---------------------------------------- */\n.sld-wire.sld-feeder-disconnected {stroke: black}\n.sld-wire.sld-feeder-connected-disconnected {stroke-dasharray: 3,3}\n.sld-wire.sld-feeder-disconnected-connected {stroke: black; stroke-dasharray: 3,3}\n.sld-busbar-section.sld-bus-disconnected {stroke-dasharray: 3,3}/* ----------------------------------------------------------------------- */\n/* File : components.css ------------------------------------------------- */\n/* Stroke black */\n.sld-disconnector {stroke-width: 3; stroke: black; fill: none}\n/* Stroke blue */\n.sld-breaker {stroke-width: 2; stroke: blue; fill:white}\n.sld-load-break-switch {stroke: blue; fill: white}\n/* Stroke --sld-vl-color with fallback black */\n.sld-bus-connection {fill: var(--sld-vl-color, black)}\n.sld-cell-shape-flat .sld-bus-connection {visibility: hidden}\n.sld-busbar-section {stroke: var(--sld-vl-color, black); stroke-width: 3; fill: none}\n/* Stroke --sld-vl-color with fallback red */\n.sld-wire {stroke: var(--sld-vl-color, #c80000); fill: none}\n.sld-wire.sld-dangling-line {stroke-width: 2px}\n.sld-wire.sld-tie-line {stroke-width: 2px}\n/* Stroke --sld-vl-color with fallback blue */\n.sld-load {stroke: var(--sld-vl-color, blue); fill: none}\n.sld-battery {stroke: var(--sld-vl-color, blue); fill: none}\n.sld-generator {stroke: var(--sld-vl-color, blue); fill: none}\n.sld-two-wt {stroke: var(--sld-vl-color, blue); fill: none}\n.sld-three-wt {stroke: var(--sld-vl-color, blue); fill: none}\n.sld-winding {stroke: var(--sld-vl-color, blue); fill: none}\n.sld-capacitor {stroke: var(--sld-vl-color, blue); fill: none}\n.sld-inductor {stroke: var(--sld-vl-color, blue); fill: none}\n.sld-pst {stroke: var(--sld-vl-color, blue); fill: none}\n.sld-pst-arrow {stroke: black; fill: none}\n.sld-svc {stroke: var(--sld-vl-color, blue); fill: none}\n.sld-vsc {stroke: var(--sld-vl-color, blue); font-size: 7.43px; fill: none}\n.sld-lcc {stroke: var(--sld-vl-color, blue); font-size: 7.43px; fill: none}\n.sld-ground {stroke: var(--sld-vl-color, blue); fill: none}\n/* Stroke none & fill: --sld-vl-color */\n.sld-node-infos {stroke: none; fill: var(--sld-vl-color, black)}\n/* Stroke none & fill: black */\n.sld-node {stroke: none; fill: black}\n.sld-flash {stroke: none; fill: black}\n.sld-lock {stroke: none; fill: black}\n.sld-unknown {stroke: none; fill: black}\n/* Fonts */\n.sld-label {stroke: none; fill: black; font: 8px serif}\n.sld-bus-legend-info {font: 10px serif}\n.sld-graph-label {font: 12px serif}\n/* Specific */\n.sld-grid {stroke: #003700; stroke-dasharray: 1,10}\n.sld-feeder-info.sld-active-power {fill:black}\n.sld-feeder-info.sld-reactive-power {fill:blue}\n.sld-feeder-info.sld-current {fill:purple}\n.sld-frame {fill: var(--sld-background-color, transparent)}\n/* Stroke maroon for fictitious switch */\n.sld-breaker.sld-fictitious {stroke: maroon}\n.sld-disconnector.sld-fictitious {stroke: maroon}\n.sld-load-break-switch.sld-fictitious {stroke: maroon}\n.sld-busbar-section.sld-fictitious {stroke: var(--sld-vl-color, #c80000); stroke-width: 1}\n/* ground disconnector specific */\n.sld-ground-disconnection-attach {stroke: var(--sld-vl-color, #c80000); fill: none}\n.sld-open .sld-ground-disconnection-ground {stroke: black; fill: none}\n.sld-closed .sld-ground-disconnection-ground {stroke: var(--sld-vl-color, #c80000); fill: none}\n.sld-ground-disconnection .sld-sw-open {stroke: black; fill: none}\n.sld-ground-disconnection .sld-sw-closed {stroke: black; fill: none}\n\n]]></style>\n    <rect class=\"sld-frame\" height=\"100%\" width=\"100%\"/>\n    <g>\n        <g class=\"sld-busbar-section sld-vl300to500-0\" id=\"idNHV1\" transform=\"translate(52.5,252.0)\">\n            <line x1=\"0\" x2=\"125.0\" y1=\"0\" y2=\"0\"/>\n            <text class=\"sld-label\" id=\"NHV1_NW_LABEL\" x=\"-5.0\" y=\"-5.0\">NHV1</text>\n        </g>\n        <g class=\"sld-busbar-section sld-vl300to500-1\" id=\"idVLHV1_95_extra_95_busbar_95_1\" transform=\"translate(52.5,277.0)\">\n            <line x1=\"0\" x2=\"125.0\" y1=\"0\" y2=\"0\"/>\n            <text class=\"sld-label\" id=\"VLHV1_extra_busbar_1_NW_LABEL\" x=\"-5.0\" y=\"-5.0\">VLHV1_extra_busbar_1</text>\n        </g>\n        <g class=\"sld-extern-cell sld-cell-direction-top\" id=\"idEXTERN_32_0\">\n            <g class=\"sld-wire sld-vl300to500-0\" id=\"_95_VLHV1_95_BUSCO_95_NHV1_95_NHV1_95_NHV2_95_2_95_ONE_95_INTERNAL_95_VLHV1_95_BUSCO_95_NHV1_95_NHV1_95_NHV2_95_2_95_ONE_45_NHV1_95_NHV2_95_2_95_ONE\">\n                <polyline points=\"65.0,252.0,65.0,222.0\"/>\n            </g>\n            <g class=\"sld-wire sld-vl300to500-0\" id=\"_95_VLHV1_95_INTERNAL_95_VLHV1_95_BUSCO_95_NHV1_95_NHV1_95_NHV2_95_2_95_ONE_45_NHV1_95_NHV2_95_2_95_ONE_95_INTERNAL_95_VLHV1_95_NHV1_95_NHV2_95_2_95_ONE\">\n                <polyline points=\"65.0,222.0,65.0,142.0\"/>\n            </g>\n            <g class=\"sld-wire sld-vl300to500-0\" id=\"_95_VLHV1_95_INTERNAL_95_VLHV1_95_NHV1_95_NHV2_95_2_95_ONE_95_NHV1_95_NHV2_95_2_95_ONE\">\n                <polyline points=\"65.0,142.0,65.0,80.0\"/>\n            </g>\n            <g class=\"sld-active-power sld-feeder-info sld-out\" id=\"idNHV1_95_NHV2_95_2_95_ONE_ARROW_ACTIVE\" transform=\"translate(60.0,95.0)\">\n                <polygon class=\"sld-arrow-out\" points=\"5,0 10,10 0,10\"/>\n                <polygon class=\"sld-arrow-in\" points=\"0,0 10,0 5,10\"/>\n                <text class=\"sld-label\" x=\"15.0\" y=\"5.0\">610</text>\n            </g>\n            <g class=\"sld-reactive-power sld-feeder-info sld-out\" id=\"idNHV1_95_NHV2_95_2_95_ONE_ARROW_REACTIVE\" transform=\"translate(60.0,115.0)\">\n                <polygon class=\"sld-arrow-out\" points=\"5,0 10,10 0,10\"/>\n                <polygon class=\"sld-arrow-in\" points=\"0,0 10,0 5,10\"/>\n                <text class=\"sld-label\" x=\"15.0\" y=\"5.0\">263</text>\n            </g>\n            <g class=\"sld-bus-connection sld-fictitious sld-vl300to500-0\" id=\"idBUSCO_95_NHV1_95_NHV1_95_NHV2_95_2_95_ONE\" transform=\"translate(61.0,248.0)\">\n                <circle cx=\"4\" cy=\"4\" r=\"4\"/>\n            </g>\n            <g class=\"sld-node sld-hidden-node sld-fictitious sld-vl300to500-0\" id=\"idINTERNAL_95_VLHV1_95_BUSCO_95_NHV1_95_NHV1_95_NHV2_95_2_95_ONE_45_NHV1_95_NHV2_95_2_95_ONE\" transform=\"translate(61.0,218.0)\">\n                <circle cx=\"4\" cy=\"4\" r=\"4\"/>\n            </g>\n            <g class=\"sld-node sld-hidden-node sld-fictitious sld-vl300to500-0\" id=\"idINTERNAL_95_VLHV1_95_NHV1_95_NHV2_95_2_95_ONE\" transform=\"translate(61.0,138.0)\">\n                <circle cx=\"4\" cy=\"4\" r=\"4\"/>\n            </g>\n            <g class=\"sld-top-feeder\" id=\"idNHV1_95_NHV2_95_2_95_ONE\" transform=\"translate(65.0,80.0)\">\n                <text class=\"sld-label\" id=\"NHV1_NHV2_2_ONE_N_LABEL\" x=\"-5.0\" y=\"-5.0\">NHV1_NHV2_2</text>\n            </g>\n        </g>\n        <g class=\"sld-extern-cell sld-cell-direction-bottom\" id=\"idEXTERN_32_1\">\n            <g class=\"sld-wire sld-vl300to500-0\" id=\"_95_VLHV1_95_BUSCO_95_NHV1_95_NGEN_95_NHV1_95_TWO_95_INTERNAL_95_VLHV1_95_BUSCO_95_NHV1_95_NGEN_95_NHV1_95_TWO_45_NGEN_95_NHV1_95_TWO\">\n                <polyline points=\"115.0,252.0,115.0,307.0\"/>\n            </g>\n            <g class=\"sld-wire sld-vl300to500-0\" id=\"_95_VLHV1_95_INTERNAL_95_VLHV1_95_BUSCO_95_NHV1_95_NGEN_95_NHV1_95_TWO_45_NGEN_95_NHV1_95_TWO_95_INTERNAL_95_VLHV1_95_NGEN_95_NHV1_95_TWO\">\n                <polyline points=\"115.0,307.0,115.0,387.0\"/>\n            </g>\n            <g class=\"sld-wire sld-vl300to500-0\" id=\"_95_VLHV1_95_INTERNAL_95_VLHV1_95_NGEN_95_NHV1_95_TWO_95_NGEN_95_NHV1_95_TWO\">\n                <polyline points=\"115.0,387.0,115.0,441.0\"/>\n            </g>\n            <g class=\"sld-reactive-power sld-feeder-info sld-in\" id=\"idNGEN_95_NHV1_95_TWO_ARROW_REACTIVE\" transform=\"translate(110.0,416.0)\">\n                <polygon class=\"sld-arrow-out\" points=\"5,0 10,10 0,10\" transform=\"rotate(180.0,5.0,5.0)\"/>\n                <polygon class=\"sld-arrow-in\" points=\"0,0 10,0 5,10\" transform=\"rotate(180.0,5.0,5.0)\"/>\n                <text class=\"sld-label\" x=\"15.0\" y=\"5.0\">-263</text>\n            </g>\n            <g class=\"sld-active-power sld-feeder-info sld-in\" id=\"idNGEN_95_NHV1_95_TWO_ARROW_ACTIVE\" transform=\"translate(110.0,396.0)\">\n                <polygon class=\"sld-arrow-out\" points=\"5,0 10,10 0,10\" transform=\"rotate(180.0,5.0,5.0)\"/>\n                <polygon class=\"sld-arrow-in\" points=\"0,0 10,0 5,10\" transform=\"rotate(180.0,5.0,5.0)\"/>\n                <text class=\"sld-label\" x=\"15.0\" y=\"5.0\">-610</text>\n            </g>\n            <g class=\"sld-bus-connection sld-fictitious sld-vl300to500-0\" id=\"idBUSCO_95_NHV1_95_NGEN_95_NHV1_95_TWO\" transform=\"translate(111.0,248.0)\">\n                <circle cx=\"4\" cy=\"4\" r=\"4\"/>\n            </g>\n            <g class=\"sld-node sld-hidden-node sld-fictitious sld-vl300to500-0\" id=\"idINTERNAL_95_VLHV1_95_BUSCO_95_NHV1_95_NGEN_95_NHV1_95_TWO_45_NGEN_95_NHV1_95_TWO\" transform=\"translate(111.0,303.0)\">\n                <circle cx=\"4\" cy=\"4\" r=\"4\"/>\n            </g>\n            <g class=\"sld-node sld-hidden-node sld-fictitious sld-vl300to500-0\" id=\"idINTERNAL_95_VLHV1_95_NGEN_95_NHV1_95_TWO\" transform=\"translate(111.0,383.0)\">\n                <circle cx=\"4\" cy=\"4\" r=\"4\"/>\n            </g>\n            <g class=\"sld-two-wt sld-bottom-feeder\" id=\"idNGEN_95_NHV1_95_TWO\" transform=\"translate(110.0,441.5)\">\n                <circle class=\"sld-vl300to500-0 sld-winding\" cx=\"5\" cy=\"10\" r=\"5\" transform=\"rotate(180.0,5.0,7.5)\"/>\n                <circle class=\"sld-vl0to30-0 sld-winding\" cx=\"5\" cy=\"5\" r=\"5\" transform=\"rotate(180.0,5.0,7.5)\"/>\n                <text class=\"sld-label\" id=\"NGEN_NHV1_TWO_S_LABEL\" x=\"-5.0\" y=\"20.0\">NGEN_NHV1</text>\n            </g>\n        </g>\n        <g class=\"sld-extern-cell sld-cell-direction-top\" id=\"idEXTERN_32_2\">\n            <g class=\"sld-wire sld-vl300to500-1\" id=\"_95_VLHV1_95_BUSCO_95_VLHV1_95_extra_95_busbar_95_1_95_NHV1_95_NHV2_95_1_95_ONE_95_INTERNAL_95_VLHV1_95_BUSCO_95_VLHV1_95_extra_95_busbar_95_1_95_NHV1_95_NHV2_95_1_95_ONE_45_NHV1_95_NHV2_95_1_95_ONE\">\n                <polyline points=\"165.0,277.0,165.0,222.0\"/>\n            </g>\n            <g class=\"sld-wire sld-vl300to500-1\" id=\"_95_VLHV1_95_INTERNAL_95_VLHV1_95_BUSCO_95_VLHV1_95_extra_95_busbar_95_1_95_NHV1_95_NHV2_95_1_95_ONE_45_NHV1_95_NHV2_95_1_95_ONE_95_INTERNAL_95_VLHV1_95_NHV1_95_NHV2_95_1_95_ONE\">\n                <polyline points=\"165.0,222.0,165.0,142.0\"/>\n            </g>\n            <g class=\"sld-wire sld-vl300to500-1\" id=\"_95_VLHV1_95_INTERNAL_95_VLHV1_95_NHV1_95_NHV2_95_1_95_ONE_95_NHV1_95_NHV2_95_1_95_ONE\">\n                <polyline points=\"165.0,142.0,165.0,80.0\"/>\n            </g>\n            <g class=\"sld-active-power sld-feeder-info sld-in\" id=\"idNHV1_95_NHV2_95_1_95_ONE_ARROW_ACTIVE\" transform=\"translate(160.0,95.0)\">\n                <polygon class=\"sld-arrow-out\" points=\"5,0 10,10 0,10\"/>\n                <polygon class=\"sld-arrow-in\" points=\"0,0 10,0 5,10\"/>\n                <text class=\"sld-label\" x=\"15.0\" y=\"5.0\">-0</text>\n            </g>\n            <g class=\"sld-reactive-power sld-feeder-info sld-out\" id=\"idNHV1_95_NHV2_95_1_95_ONE_ARROW_REACTIVE\" transform=\"translate(160.0,115.0)\">\n                <polygon class=\"sld-arrow-out\" points=\"5,0 10,10 0,10\"/>\n                <polygon class=\"sld-arrow-in\" points=\"0,0 10,0 5,10\"/>\n                <text class=\"sld-label\" x=\"15.0\" y=\"5.0\">0</text>\n            </g>\n            <g class=\"sld-bus-connection sld-fictitious sld-vl300to500-1\" id=\"idBUSCO_95_VLHV1_95_extra_95_busbar_95_1_95_NHV1_95_NHV2_95_1_95_ONE\" transform=\"translate(161.0,273.0)\">\n                <circle cx=\"4\" cy=\"4\" r=\"4\"/>\n            </g>\n            <g class=\"sld-node sld-hidden-node sld-fictitious sld-vl300to500-1\" id=\"idINTERNAL_95_VLHV1_95_BUSCO_95_VLHV1_95_extra_95_busbar_95_1_95_NHV1_95_NHV2_95_1_95_ONE_45_NHV1_95_NHV2_95_1_95_ONE\" transform=\"translate(161.0,218.0)\">\n                <circle cx=\"4\" cy=\"4\" r=\"4\"/>\n            </g>\n            <g class=\"sld-node sld-hidden-node sld-fictitious sld-vl300to500-1\" id=\"idINTERNAL_95_VLHV1_95_NHV1_95_NHV2_95_1_95_ONE\" transform=\"translate(161.0,138.0)\">\n                <circle cx=\"4\" cy=\"4\" r=\"4\"/>\n            </g>\n            <g class=\"sld-top-feeder\" id=\"idNHV1_95_NHV2_95_1_95_ONE\" transform=\"translate(165.0,80.0)\">\n                <text class=\"sld-label\" id=\"NHV1_NHV2_1_ONE_N_LABEL\" x=\"-5.0\" y=\"-5.0\">NHV1_NHV2_1</text>\n            </g>\n        </g>\n    </g>\n</svg>\n"
     },
     "execution_count": 7,
     "metadata": {},
     "output_type": "execute_result"
    }
   ],
   "execution_count": 7
  }
 ],
 "metadata": {
  "kernelspec": {
   "display_name": "Python 3",
   "language": "python",
   "name": "python3"
  },
  "language_info": {
   "codemirror_mode": {
    "name": "ipython",
    "version": 2
   },
   "file_extension": ".py",
   "mimetype": "text/x-python",
   "name": "python",
   "nbconvert_exporter": "python",
   "pygments_lexer": "ipython2",
   "version": "2.7.6"
  }
 },
 "nbformat": 4,
 "nbformat_minor": 5
}
